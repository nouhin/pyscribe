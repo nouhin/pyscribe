{
 "cells": [
  {
   "cell_type": "code",
   "execution_count": 1,
   "metadata": {},
   "outputs": [],
   "source": [
    "import ffmpeg \n",
    "import whisper\n",
    "import torch\n",
    "import io\n",
    "import time\n",
    "import numpy as np\n",
    "import logging"
   ]
  },
  {
   "cell_type": "code",
   "execution_count": 2,
   "metadata": {},
   "outputs": [
    {
     "data": {
      "text/plain": [
       "['tiny.en',\n",
       " 'tiny',\n",
       " 'base.en',\n",
       " 'base',\n",
       " 'small.en',\n",
       " 'small',\n",
       " 'medium.en',\n",
       " 'medium',\n",
       " 'large-v1',\n",
       " 'large-v2',\n",
       " 'large']"
      ]
     },
     "execution_count": 2,
     "metadata": {},
     "output_type": "execute_result"
    }
   ],
   "source": [
    "whisper.available_models()"
   ]
  },
  {
   "cell_type": "code",
   "execution_count": null,
   "metadata": {},
   "outputs": [],
   "source": [
    "source_folder = 'video_input'\n",
    "output_folder = 'subs_output'\n",
    "model = 'medium'\n",
    "language = 'french'\n",
    "device = torch.device('cuda' if torch.cuda.is_available() else 'cpu')\n",
    "\n",
    "#####################################################################\n",
    "\n",
    "print('Current configuration:')\n",
    "print('Source folder: {}'.format(source_folder))\n",
    "print('Output folder: {}'.format(output_folder))\n",
    "print('Model: {}'.format(model))\n",
    "print('Language: {}'.format(language))\n",
    "print('Device: {}'.format(device))"
   ]
  },
  {
   "cell_type": "code",
   "execution_count": null,
   "metadata": {},
   "outputs": [],
   "source": [
    "# Load the model\n",
    "whisper.load_model(name='medium',device=device,download_root='models')"
   ]
  },
  {
   "cell_type": "code",
   "execution_count": null,
   "metadata": {},
   "outputs": [],
   "source": [
    "class Whisperer:\n",
    "    def __init__(self, output_folder=output_folder, language=language, device=device, model_name=model):\n",
    "        self.output_folder = output_folder\n",
    "        self.language = language\n",
    "        self.device = device\n",
    "        self.model_name = model_name\n",
    "\n",
    "    def init_model(self):\n",
    "        self.model = whisper.load_model(name=self.model_name, device=self.device, download_root='models')\n",
    "\n",
    "    def transcribe(self, audio_file):\n",
    "        tic = time.time()\n",
    "        res = self.whisper_model.transcribe(\n",
    "            audio_file, task=\"transcribe\", language=self.language, verbose=True, word_timestamps=True\n",
    "        )\n",
    "        logging.info(f\"Done transcription in {time.time() - tic:.1f} sec\")\n",
    "        return res\n",
    "\n",
    "\n",
    "# Create video class\n",
    "class Video:\n",
    "    def __init__(self, path, output_path='None'):\n",
    "        self.path = path\n",
    "        self.output_path = output_path\n",
    "        self.path = path\n",
    "        self.audio = None\n",
    "        self.subtitles = None\n",
    "\n",
    "    def get_audio(self):\n",
    "        logging.info(f\"Loading audio from {self.path}\")\n",
    "        try:\n",
    "            out, _ = (\n",
    "                ffmpeg.input(file, threads=0).output(\"-\", format=\"s16le\", acodec=\"pcm_s16le\", ac=1, ar=sr).run(\n",
    "                    cmd=[\"ffmpeg\", \"-nostdin\"], capture_stdout=True, capture_stderr=True\n",
    "                )\n",
    "            )\n",
    "        except ffmpeg.Error as e:\n",
    "            logging.error(f\"Failed to load audio: {e.stderr.decode()}\")\n",
    "            raise RuntimeError(f\"Failed to load audio: {e.stderr.decode()}\") from e\n",
    "\n",
    "        self.audio = np.frombuffer(out, np.int16).flatten().astype(np.float32) / 32768.0\n",
    "        logging.info(f\"Loaded audio from {self.path}\")\n",
    "\n",
    "    def generate_subtitles(self, transcriber):\n",
    "        logging.info(f\"Generating subtitles for {self.path}\")\n",
    "        if self.audio is None:\n",
    "            self.get_audio()\n",
    "        try:\n",
    "            self.subtitles = transcriber.transcribe(self.audio)\n",
    "            self.save_subtitles()\n",
    "            logging.info(f\"Generated subtitles for {self.path}\")\n",
    "        except Exception as e:\n",
    "            logging.error(f\"Failed to generate subtitles: {e}\")\n",
    "            raise RuntimeError(f\"Failed to generate subtitles: {e}\") from e\n",
    "        \n",
    "    def save_subtitles(self):\n",
    "        logging.info(f\"Saving subtitles for {self.path}\")\n",
    "        if self.subtitles is None:\n",
    "            logging.error(\"No subtitles to save\")\n",
    "            raise RuntimeError(\"No subtitles to save\")\n",
    "        with open(self.output_path, \"w\") as f:\n",
    "            f.write(self.subtitles)\n",
    "        logging.info(f\"Saved subtitles for {self.path}\")\n"
   ]
  },
  {
   "cell_type": "code",
   "execution_count": null,
   "metadata": {},
   "outputs": [],
   "source": [
    "logging.basicConfig(\n",
    "    format=\"[parrot:%(filename)s:L%(lineno)d] %(levelname)-6s %(message)s\"\n",
    ")\n",
    "logging.getLogger().setLevel(logging.INFO)"
   ]
  }
 ],
 "metadata": {
  "kernelspec": {
   "display_name": "pytrans",
   "language": "python",
   "name": "python3"
  },
  "language_info": {
   "codemirror_mode": {
    "name": "ipython",
    "version": 3
   },
   "file_extension": ".py",
   "mimetype": "text/x-python",
   "name": "python",
   "nbconvert_exporter": "python",
   "pygments_lexer": "ipython3",
   "version": "3.11.5"
  },
  "orig_nbformat": 4
 },
 "nbformat": 4,
 "nbformat_minor": 2
}
