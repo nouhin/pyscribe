{
 "cells": [
  {
   "cell_type": "code",
   "execution_count": null,
   "metadata": {},
   "outputs": [],
   "source": [
    "import json\n",
    "import logging\n",
    "import time\n",
    "from pathlib import Path\n",
    "\n",
    "import ffmpeg\n",
    "import numpy as np\n",
    "import torch\n",
    "import whisper\n",
    "import whisper.utils\n",
    "import classes\n",
    "\n",
    "source_folder = Path('video_input')\n",
    "output_folder = Path('subs_out')\n",
    "model = 'medium'\n",
    "language = 'french'\n",
    "device = torch.device('cuda' if torch.cuda.is_available() else 'cpu')\n",
    "\n",
    "#####################################################################\n",
    "\n",
    "print('Current configuration:')\n",
    "print(f'Source folder: {source_folder}')\n",
    "print(f'Output folder: {output_folder}')\n",
    "print(f'Model: {model}')\n",
    "print(f'Language: {language}')\n",
    "print(f'Device: {device}')\n"
   ]
  },
  {
   "cell_type": "code",
   "execution_count": null,
   "metadata": {},
   "outputs": [],
   "source": [
    "whisper.available_models()"
   ]
  },
  {
   "cell_type": "code",
   "execution_count": null,
   "metadata": {},
   "outputs": [],
   "source": [
    "classes.setup_logging()\n",
    "\n",
    "logging.info(\"This is an info message.\")\n",
    "logging.error(\"This is an error message.\")\n",
    "\n",
    "# Init Whisperer\n",
    "whisperer = classes.Whisperer()\n",
    "whisperer.init_model()"
   ]
  },
  {
   "cell_type": "code",
   "execution_count": null,
   "metadata": {},
   "outputs": [],
   "source": [
    "# get list of videos in source folder , extension .mp4 mkv\n",
    "videos = [\n",
    "    f for f in os.listdir(source_folder)\n",
    "    if os.path.isfile(os.path.join(source_folder, f)) and (f.endswith('.mp4') or f.endswith('.mkv'))\n",
    "]\n",
    "logging.info(f\"Found {len(videos)} videos to process\")\n",
    "\n",
    "try:\n",
    "    with open('context.txt', 'r') as f:\n",
    "        context = f.read()\n",
    "except FileNotFoundError:\n",
    "    context = None\n"
   ]
  },
  {
   "cell_type": "code",
   "execution_count": 14,
   "metadata": {},
   "outputs": [
    {
     "name": "stderr",
     "output_type": "stream",
     "text": [
      "2023-10-01 14:40:09,797 - root - INFO - Processing video 2023-04-28 15-41-25_edit.mp4\n",
      "2023-10-01 14:40:09,799 - root - INFO - Generating subtitles for video_input\\2023-04-28 15-41-25_edit.mp4\n",
      "2023-10-01 14:40:09,800 - root - INFO - Loading audio from video_input\\2023-04-28 15-41-25_edit.mp4\n",
      "2023-10-01 14:40:10,056 - root - INFO - Loaded audio from video_input\\2023-04-28 15-41-25_edit.mp4\n"
     ]
    },
    {
     "name": "stdout",
     "output_type": "stream",
     "text": [
      "[00:00.000 --> 00:07.980]  Bonjour, mon roulage, je ne comprends pas, il est passé en manuel. Qu'est-ce qui s'est passé ?\n",
      "[00:07.980 --> 00:11.680]  En gros, l'incident, ce serait ça quoi ? C'est le roulage X, il est passé en manuel.\n",
      "[00:12.900 --> 00:18.480]  On va me dire, pouvez-vous le repasser en auto ? Et nous, il faut qu'on étudie qu'est-ce qui s'est\n",
      "[00:18.480 --> 00:23.780]  passé avant de le repasser en auto ? On peut potentiellement le remonter en auto. Et du coup,\n",
      "[00:23.780 --> 00:30.060]  je te donne le nom du roulage. Je dois vous laisser.\n",
      "[00:30.160 --> 00:40.740]  Oui, c'est bon, merci. J'ai un autre point. Pour info, si tu peux ajouter une diapo de version 1,\n",
      "[00:41.580 --> 00:52.240]  tu met la version 1 de ce document et tu nous l'envoies par mail.\n",
      "[00:53.920 --> 01:00.540]  Avec en prise en compte qu'on fera un autre point après pour les modifs qu'Alexandre a demandé.\n",
      "[01:06.140 --> 01:09.120]  Merci à vous tous. Bon weekend.\n",
      "[01:09.380 --> 01:10.060]  A plus.\n",
      "[01:17.220 --> 01:22.480]  Ce roulage, il est effectivement fait des passeurs manuels quoi. Et j'aimerais comprendre pourquoi.\n",
      "[01:29.740 --> 01:32.000]  Donc, on n'a pas traité d'incidents pour un point ensemble sur ça.\n",
      "[01:34.260 --> 01:37.040]  Mais bon, il y a tout qui a été présenté pour que vous puissiez quand même les débugger.\n"
     ]
    },
    {
     "name": "stderr",
     "output_type": "stream",
     "text": [
      "2023-10-01 14:40:42,838 - root - INFO - Done transcription in 32.8 sec\n"
     ]
    },
    {
     "name": "stdout",
     "output_type": "stream",
     "text": [
      "[01:38.760 --> 01:40.240]  Pour répondre à ce type d'incidents.\n"
     ]
    },
    {
     "name": "stderr",
     "output_type": "stream",
     "text": [
      "2023-10-01 14:40:53,670 - root - INFO - Saving raw output for video_input\\2023-04-28 15-41-25_edit.mp4\n",
      "2023-10-01 14:41:36,818 - root - INFO - Saved raw output for video_input\\2023-04-28 15-41-25_edit.mp4\n",
      "2023-10-01 14:41:36,821 - root - INFO - Saving subtitles for video_input\\2023-04-28 15-41-25_edit.mp4\n",
      "2023-10-01 14:41:36,822 - root - ERROR - \u001b[91mFailed to generate subtitles: [WinError 3] The system cannot find the path specified: ''\u001b[0m\n"
     ]
    },
    {
     "ename": "RuntimeError",
     "evalue": "Failed to generate subtitles: [WinError 3] The system cannot find the path specified: ''",
     "output_type": "error",
     "traceback": [
      "\u001b[1;31m---------------------------------------------------------------------------\u001b[0m",
      "\u001b[1;31mFileNotFoundError\u001b[0m                         Traceback (most recent call last)",
      "File \u001b[1;32mc:\\Users\\winsid\\Desktop\\pyscribe\\classes.py:97\u001b[0m, in \u001b[0;36mVideo.generate_subtitles\u001b[1;34m(self, transcriber)\u001b[0m\n\u001b[0;32m     96\u001b[0m     \u001b[39mself\u001b[39m\u001b[39m.\u001b[39msave_raw()\n\u001b[1;32m---> 97\u001b[0m \u001b[39mself\u001b[39;49m\u001b[39m.\u001b[39;49msave_subtitles()\n\u001b[0;32m     98\u001b[0m logging\u001b[39m.\u001b[39minfo(\u001b[39mf\u001b[39m\u001b[39m\"\u001b[39m\u001b[39mGenerated subtitles for \u001b[39m\u001b[39m{\u001b[39;00m\u001b[39mself\u001b[39m\u001b[39m.\u001b[39mpath\u001b[39m}\u001b[39;00m\u001b[39m\"\u001b[39m)\n",
      "File \u001b[1;32mc:\\Users\\winsid\\Desktop\\pyscribe\\classes.py:122\u001b[0m, in \u001b[0;36mVideo.save_subtitles\u001b[1;34m(self)\u001b[0m\n\u001b[0;32m    121\u001b[0m output_path \u001b[39m=\u001b[39m \u001b[39mself\u001b[39m\u001b[39m.\u001b[39moutput_path \u001b[39mor\u001b[39;00m os\u001b[39m.\u001b[39mpath\u001b[39m.\u001b[39mjoin(\u001b[39mself\u001b[39m\u001b[39m.\u001b[39moutput_path, \u001b[39mself\u001b[39m\u001b[39m.\u001b[39mpath\u001b[39m.\u001b[39msplit(\u001b[39m'\u001b[39m\u001b[39m/\u001b[39m\u001b[39m'\u001b[39m)[\u001b[39m-\u001b[39m\u001b[39m1\u001b[39m] \u001b[39m+\u001b[39m \u001b[39m'\u001b[39m\u001b[39m.srt\u001b[39m\u001b[39m'\u001b[39m)\n\u001b[1;32m--> 122\u001b[0m os\u001b[39m.\u001b[39;49mmakedirs(os\u001b[39m.\u001b[39;49mpath\u001b[39m.\u001b[39;49mdirname(output_path), exist_ok\u001b[39m=\u001b[39;49m\u001b[39mTrue\u001b[39;49;00m)\n\u001b[0;32m    124\u001b[0m \u001b[39m# Assuming you've imported the necessary libraries for 'whisper' and it exists\u001b[39;00m\n",
      "File \u001b[1;32m<frozen os>:225\u001b[0m, in \u001b[0;36mmakedirs\u001b[1;34m(name, mode, exist_ok)\u001b[0m\n",
      "\u001b[1;31mFileNotFoundError\u001b[0m: [WinError 3] The system cannot find the path specified: ''",
      "\nThe above exception was the direct cause of the following exception:\n",
      "\u001b[1;31mRuntimeError\u001b[0m                              Traceback (most recent call last)",
      "\u001b[1;32mc:\\Users\\winsid\\Desktop\\pyscribe\\main_notebook.ipynb Cell 5\u001b[0m line \u001b[0;36m7\n\u001b[0;32m      <a href='vscode-notebook-cell:/c%3A/Users/winsid/Desktop/pyscribe/main_notebook.ipynb#X11sZmlsZQ%3D%3D?line=4'>5</a>\u001b[0m video \u001b[39m=\u001b[39m classes\u001b[39m.\u001b[39mVideo(video_path, save_raw\u001b[39m=\u001b[39m\u001b[39mTrue\u001b[39;00m)\n\u001b[0;32m      <a href='vscode-notebook-cell:/c%3A/Users/winsid/Desktop/pyscribe/main_notebook.ipynb#X11sZmlsZQ%3D%3D?line=5'>6</a>\u001b[0m video\u001b[39m.\u001b[39mcontext \u001b[39m=\u001b[39m context\n\u001b[1;32m----> <a href='vscode-notebook-cell:/c%3A/Users/winsid/Desktop/pyscribe/main_notebook.ipynb#X11sZmlsZQ%3D%3D?line=6'>7</a>\u001b[0m video\u001b[39m.\u001b[39;49mgenerate_subtitles(whisperer)\n\u001b[0;32m      <a href='vscode-notebook-cell:/c%3A/Users/winsid/Desktop/pyscribe/main_notebook.ipynb#X11sZmlsZQ%3D%3D?line=7'>8</a>\u001b[0m logging\u001b[39m.\u001b[39minfo(\u001b[39mf\u001b[39m\u001b[39m\"\u001b[39m\u001b[39mProcessed video \u001b[39m\u001b[39m{\u001b[39;00mvideo\u001b[39m}\u001b[39;00m\u001b[39m in \u001b[39m\u001b[39m{\u001b[39;00mtime\u001b[39m.\u001b[39mtime()\u001b[39m \u001b[39m\u001b[39m-\u001b[39m\u001b[39m \u001b[39mtic\u001b[39m:\u001b[39;00m\u001b[39m.1f\u001b[39m\u001b[39m}\u001b[39;00m\u001b[39m sec\u001b[39m\u001b[39m\"\u001b[39m)\n",
      "File \u001b[1;32mc:\\Users\\winsid\\Desktop\\pyscribe\\classes.py:101\u001b[0m, in \u001b[0;36mVideo.generate_subtitles\u001b[1;34m(self, transcriber)\u001b[0m\n\u001b[0;32m     99\u001b[0m \u001b[39mexcept\u001b[39;00m \u001b[39mException\u001b[39;00m \u001b[39mas\u001b[39;00m e:\n\u001b[0;32m    100\u001b[0m     logging\u001b[39m.\u001b[39merror(\u001b[39mf\u001b[39m\u001b[39m\"\u001b[39m\u001b[39mFailed to generate subtitles: \u001b[39m\u001b[39m{\u001b[39;00me\u001b[39m}\u001b[39;00m\u001b[39m\"\u001b[39m)\n\u001b[1;32m--> 101\u001b[0m     \u001b[39mraise\u001b[39;00m \u001b[39mRuntimeError\u001b[39;00m(\u001b[39mf\u001b[39m\u001b[39m\"\u001b[39m\u001b[39mFailed to generate subtitles: \u001b[39m\u001b[39m{\u001b[39;00me\u001b[39m}\u001b[39;00m\u001b[39m\"\u001b[39m) \u001b[39mfrom\u001b[39;00m \u001b[39me\u001b[39;00m\n",
      "\u001b[1;31mRuntimeError\u001b[0m: Failed to generate subtitles: [WinError 3] The system cannot find the path specified: ''"
     ]
    }
   ],
   "source": [
    "for video in videos:\n",
    "    tic = time.time()\n",
    "    logging.info(f\"Processing video {video}\")\n",
    "    video_path = os.path.join(source_folder, video)\n",
    "    video = classes.Video(video_path, save_raw=True)\n",
    "    video.context = context\n",
    "    video.generate_subtitles(whisperer)\n",
    "    logging.info(f\"Processed video {video} in {time.time() - tic:.1f} sec\")"
   ]
  }
 ],
 "metadata": {
  "kernelspec": {
   "display_name": "pytrans",
   "language": "python",
   "name": "python3"
  },
  "language_info": {
   "codemirror_mode": {
    "name": "ipython",
    "version": 3
   },
   "file_extension": ".py",
   "mimetype": "text/x-python",
   "name": "python",
   "nbconvert_exporter": "python",
   "pygments_lexer": "ipython3",
   "version": "3.11.5"
  },
  "orig_nbformat": 4
 },
 "nbformat": 4,
 "nbformat_minor": 2
}
